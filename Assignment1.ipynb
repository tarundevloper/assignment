{
 "cells": [
  {
   "cell_type": "markdown",
   "metadata": {},
   "source": [
    "1. In the below elements which of them are values or an expression? eg:- values can be\n",
    "integer or string and expressions will be mathematical operators.\n",
    "\n",
    "*\n",
    "'hello'\n",
    "-87.8\n",
    "-\n",
    "/\n",
    "+\n",
    "6"
   ]
  },
  {
   "cell_type": "markdown",
   "metadata": {},
   "source": [
    "Answer - \n",
    "1) * Is an mathematical operators\n",
    "\n",
    "2) 'hello' is an values\n",
    "\n",
    "3) -87.8 is an values\n",
    "\n",
    "4) - is an mathematical operators\n",
    "\n",
    "5) / is an mathematical operators\n",
    "\n",
    "6) + is an mathematical operators\n",
    "\n",
    "7) 6 is values"
   ]
  },
  {
   "cell_type": "markdown",
   "metadata": {},
   "source": [
    "2. What is the difference between string and variable?"
   ]
  },
  {
   "cell_type": "markdown",
   "metadata": {},
   "source": [
    "Answer - \n",
    "String is stored inide variable. Any thing written in \" \" is a string.\n",
    "\n",
    "variable is used to store value inside it. example a = 12 so here a is a variable which has stored value 12 into it."
   ]
  },
  {
   "cell_type": "markdown",
   "metadata": {},
   "source": [
    "3. Describe three different data types."
   ]
  },
  {
   "cell_type": "markdown",
   "metadata": {},
   "source": [
    "Diffrent data types in python are :\n",
    "\n",
    "1)str - All the value written inside \" \" are of string data type.\n",
    "\n",
    "2)int - All the numeric value are denoted as integer. \n",
    "\n",
    "3)float - when numeric value has . inside it example 12.34 is denoted as float.\n",
    "\n",
    "4)bool - When we define condition it return answer in True or false it is known as boolean."
   ]
  },
  {
   "cell_type": "markdown",
   "metadata": {},
   "source": [
    "4. What is an expression made up of? What do all expressions do?"
   ]
  },
  {
   "cell_type": "markdown",
   "metadata": {},
   "source": [
    "Answer - Expressions are made up of mathematical operators . They are used for addition , subtraction , division etc"
   ]
  },
  {
   "cell_type": "markdown",
   "metadata": {},
   "source": [
    "This assignment statements, like spam = 10. What is the difference between an\n",
    "expression and a statement?"
   ]
  },
  {
   "cell_type": "markdown",
   "metadata": {},
   "source": [
    "Answer - Statment is only a standalone line that is it does not do any addition or subtraction. The output of the statment is nothing but a stament itself\n",
    "\n",
    "while\n",
    "\n",
    "Expresion is used to do mathematical operation. The output of expression is a value that we want."
   ]
  },
  {
   "cell_type": "markdown",
   "metadata": {},
   "source": [
    "6. After running the following code, what does the variable bacon contain?\n",
    "bacon = 22\n",
    "bacon + 1"
   ]
  },
  {
   "cell_type": "markdown",
   "metadata": {},
   "source": [
    "Answer -  bacon will contain 22 in it. As the addition of +1 will not be stored in variable."
   ]
  },
  {
   "cell_type": "markdown",
   "metadata": {},
   "source": [
    "7. What should the values of the following two terms be?\n",
    "'spam' + 'spamspam'\n",
    "'spam'*3"
   ]
  },
  {
   "cell_type": "markdown",
   "metadata": {},
   "source": [
    "Answer - The output of the following term would be \n",
    "1) 'spamspamspam'\n",
    "\n",
    "2) 'spamspamspam'"
   ]
  },
  {
   "cell_type": "markdown",
   "metadata": {},
   "source": [
    "8. Why is eggs a valid variable name while 100 is invalid?"
   ]
  },
  {
   "cell_type": "markdown",
   "metadata": {},
   "source": [
    "Answer - While defining a variable it should contain characters in it. It can not contain only numerical value in it. And it should also star with character and not numeric value."
   ]
  },
  {
   "cell_type": "markdown",
   "metadata": {},
   "source": [
    "9. What three functions can be used to get the integer, floating-point number, or string\n",
    "version of a value?"
   ]
  },
  {
   "cell_type": "markdown",
   "metadata": {},
   "source": [
    "Answer - int(),float() and str() can be used to get version of a value"
   ]
  },
  {
   "cell_type": "markdown",
   "metadata": {},
   "source": [
    "10. Why does this expression cause an error? How can you fix it?\n",
    "'I have eaten' + 99 + 'burritos'"
   ]
  },
  {
   "cell_type": "markdown",
   "metadata": {},
   "source": [
    "Answer - The above statment will give error because we can not add string + int. The data type of 99 is int so it has to be converted to  string to get an error free output.\n",
    "\n",
    "We could re write it as 'I have eaten' + str(99) + 'burritos' or 'I have eaten' + '99' + 'burritos' to give an output."
   ]
  },
  {
   "cell_type": "markdown",
   "metadata": {},
   "source": []
  },
  {
   "cell_type": "markdown",
   "metadata": {},
   "source": []
  }
 ],
 "metadata": {
  "kernelspec": {
   "display_name": "Python 3",
   "language": "python",
   "name": "python3"
  },
  "language_info": {
   "codemirror_mode": {
    "name": "ipython",
    "version": 3
   },
   "file_extension": ".py",
   "mimetype": "text/x-python",
   "name": "python",
   "nbconvert_exporter": "python",
   "pygments_lexer": "ipython3",
   "version": "3.8.5"
  }
 },
 "nbformat": 4,
 "nbformat_minor": 4
}
